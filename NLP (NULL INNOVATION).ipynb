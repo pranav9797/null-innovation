{
 "cells": [
  {
   "cell_type": "markdown",
   "id": "038c99e7",
   "metadata": {},
   "source": [
    "# Loading important liabraries"
   ]
  },
  {
   "cell_type": "code",
   "execution_count": 1,
   "id": "93efcd2f",
   "metadata": {},
   "outputs": [],
   "source": [
    "import pandas as pd\n",
    "import numpy as np\n",
    "import seaborn as sns\n",
    "import matplotlib.pyplot as plt\n",
    "import string\n",
    "from nltk.corpus import stopwords \n",
    "from sklearn.feature_extraction.text import CountVectorizer \n",
    "from sklearn.feature_extraction.text import TfidfTransformer\n",
    "from sklearn.naive_bayes import MultinomialNB\n",
    "from sklearn.model_selection import train_test_split\n",
    "from sklearn.pipeline import Pipeline\n",
    "from sklearn.metrics import classification_report"
   ]
  },
  {
   "cell_type": "code",
   "execution_count": 2,
   "id": "15a76089",
   "metadata": {},
   "outputs": [],
   "source": [
    "data = pd.read_excel(\"Tweet_NFT.xlsx\")"
   ]
  },
  {
   "cell_type": "markdown",
   "id": "84688a5f",
   "metadata": {},
   "source": [
    "# Exploratory Data Analysis"
   ]
  },
  {
   "cell_type": "code",
   "execution_count": 3,
   "id": "1ef81599",
   "metadata": {},
   "outputs": [
    {
     "data": {
      "text/html": [
       "<div>\n",
       "<style scoped>\n",
       "    .dataframe tbody tr th:only-of-type {\n",
       "        vertical-align: middle;\n",
       "    }\n",
       "\n",
       "    .dataframe tbody tr th {\n",
       "        vertical-align: top;\n",
       "    }\n",
       "\n",
       "    .dataframe thead th {\n",
       "        text-align: right;\n",
       "    }\n",
       "</style>\n",
       "<table border=\"1\" class=\"dataframe\">\n",
       "  <thead>\n",
       "    <tr style=\"text-align: right;\">\n",
       "      <th></th>\n",
       "      <th>id</th>\n",
       "      <th>tweet_text</th>\n",
       "      <th>tweet_created_at</th>\n",
       "      <th>tweet_intent</th>\n",
       "    </tr>\n",
       "  </thead>\n",
       "  <tbody>\n",
       "    <tr>\n",
       "      <th>0</th>\n",
       "      <td>1212762.0</td>\n",
       "      <td>@crypto_brody @eCoLoGy1990 @MoonrunnersNFT @It...</td>\n",
       "      <td>2022-08-06T16:56:36.000Z</td>\n",
       "      <td>Community</td>\n",
       "    </tr>\n",
       "    <tr>\n",
       "      <th>1</th>\n",
       "      <td>1212763.0</td>\n",
       "      <td>Need Sick Character artâ_x009d_“#art #artist #...</td>\n",
       "      <td>2022-08-06T16:56:36.000Z</td>\n",
       "      <td>Giveaway</td>\n",
       "    </tr>\n",
       "    <tr>\n",
       "      <th>2</th>\n",
       "      <td>1212765.0</td>\n",
       "      <td>@The_Hulk_NFT @INagotchiNFT @Tesla @killabears...</td>\n",
       "      <td>2022-08-06T16:56:35.000Z</td>\n",
       "      <td>Appreciation</td>\n",
       "    </tr>\n",
       "    <tr>\n",
       "      <th>3</th>\n",
       "      <td>1212766.0</td>\n",
       "      <td>@CryptoBatzNFT @DarekBTW The first project in ...</td>\n",
       "      <td>2022-08-06T16:56:35.000Z</td>\n",
       "      <td>Community</td>\n",
       "    </tr>\n",
       "    <tr>\n",
       "      <th>4</th>\n",
       "      <td>1212767.0</td>\n",
       "      <td>@sashadysonn The first project in crypto with ...</td>\n",
       "      <td>2022-08-06T16:56:34.000Z</td>\n",
       "      <td>Community</td>\n",
       "    </tr>\n",
       "  </tbody>\n",
       "</table>\n",
       "</div>"
      ],
      "text/plain": [
       "          id                                         tweet_text  \\\n",
       "0  1212762.0  @crypto_brody @eCoLoGy1990 @MoonrunnersNFT @It...   \n",
       "1  1212763.0  Need Sick Character artâ_x009d_“#art #artist #...   \n",
       "2  1212765.0  @The_Hulk_NFT @INagotchiNFT @Tesla @killabears...   \n",
       "3  1212766.0  @CryptoBatzNFT @DarekBTW The first project in ...   \n",
       "4  1212767.0  @sashadysonn The first project in crypto with ...   \n",
       "\n",
       "           tweet_created_at  tweet_intent  \n",
       "0  2022-08-06T16:56:36.000Z     Community  \n",
       "1  2022-08-06T16:56:36.000Z      Giveaway  \n",
       "2  2022-08-06T16:56:35.000Z  Appreciation  \n",
       "3  2022-08-06T16:56:35.000Z     Community  \n",
       "4  2022-08-06T16:56:34.000Z     Community  "
      ]
     },
     "execution_count": 3,
     "metadata": {},
     "output_type": "execute_result"
    }
   ],
   "source": [
    "data.head()"
   ]
  },
  {
   "cell_type": "code",
   "execution_count": 4,
   "id": "5305b79c",
   "metadata": {},
   "outputs": [
    {
     "data": {
      "text/html": [
       "<div>\n",
       "<style scoped>\n",
       "    .dataframe tbody tr th:only-of-type {\n",
       "        vertical-align: middle;\n",
       "    }\n",
       "\n",
       "    .dataframe tbody tr th {\n",
       "        vertical-align: top;\n",
       "    }\n",
       "\n",
       "    .dataframe thead th {\n",
       "        text-align: right;\n",
       "    }\n",
       "</style>\n",
       "<table border=\"1\" class=\"dataframe\">\n",
       "  <thead>\n",
       "    <tr style=\"text-align: right;\">\n",
       "      <th></th>\n",
       "      <th>id</th>\n",
       "    </tr>\n",
       "  </thead>\n",
       "  <tbody>\n",
       "    <tr>\n",
       "      <th>count</th>\n",
       "      <td>1.274530e+05</td>\n",
       "    </tr>\n",
       "    <tr>\n",
       "      <th>mean</th>\n",
       "      <td>1.297300e+06</td>\n",
       "    </tr>\n",
       "    <tr>\n",
       "      <th>std</th>\n",
       "      <td>6.301816e+04</td>\n",
       "    </tr>\n",
       "    <tr>\n",
       "      <th>min</th>\n",
       "      <td>1.212762e+06</td>\n",
       "    </tr>\n",
       "    <tr>\n",
       "      <th>25%</th>\n",
       "      <td>1.244749e+06</td>\n",
       "    </tr>\n",
       "    <tr>\n",
       "      <th>50%</th>\n",
       "      <td>1.276623e+06</td>\n",
       "    </tr>\n",
       "    <tr>\n",
       "      <th>75%</th>\n",
       "      <td>1.346851e+06</td>\n",
       "    </tr>\n",
       "    <tr>\n",
       "      <th>max</th>\n",
       "      <td>2.309537e+06</td>\n",
       "    </tr>\n",
       "  </tbody>\n",
       "</table>\n",
       "</div>"
      ],
      "text/plain": [
       "                 id\n",
       "count  1.274530e+05\n",
       "mean   1.297300e+06\n",
       "std    6.301816e+04\n",
       "min    1.212762e+06\n",
       "25%    1.244749e+06\n",
       "50%    1.276623e+06\n",
       "75%    1.346851e+06\n",
       "max    2.309537e+06"
      ]
     },
     "execution_count": 4,
     "metadata": {},
     "output_type": "execute_result"
    }
   ],
   "source": [
    "data.describe()"
   ]
  },
  {
   "cell_type": "code",
   "execution_count": 5,
   "id": "88d24a0f",
   "metadata": {},
   "outputs": [
    {
     "data": {
      "text/plain": [
       "id                  float64\n",
       "tweet_text           object\n",
       "tweet_created_at     object\n",
       "tweet_intent         object\n",
       "dtype: object"
      ]
     },
     "execution_count": 5,
     "metadata": {},
     "output_type": "execute_result"
    }
   ],
   "source": [
    "data.dtypes"
   ]
  },
  {
   "cell_type": "code",
   "execution_count": 6,
   "id": "82156b0a",
   "metadata": {},
   "outputs": [
    {
     "data": {
      "text/plain": [
       "id                      0\n",
       "tweet_text              0\n",
       "tweet_created_at        0\n",
       "tweet_intent        31089\n",
       "dtype: int64"
      ]
     },
     "execution_count": 6,
     "metadata": {},
     "output_type": "execute_result"
    }
   ],
   "source": [
    "data.isnull().sum()"
   ]
  },
  {
   "cell_type": "markdown",
   "id": "16b5652a",
   "metadata": {},
   "source": [
    "we have missing value in tweet_intent  column in our dataset"
   ]
  },
  {
   "cell_type": "code",
   "execution_count": 7,
   "id": "c8dd62fd",
   "metadata": {},
   "outputs": [
    {
     "name": "stdout",
     "output_type": "stream",
     "text": [
      "<class 'pandas.core.frame.DataFrame'>\n",
      "RangeIndex: 127453 entries, 0 to 127452\n",
      "Data columns (total 4 columns):\n",
      " #   Column            Non-Null Count   Dtype  \n",
      "---  ------            --------------   -----  \n",
      " 0   id                127453 non-null  float64\n",
      " 1   tweet_text        127453 non-null  object \n",
      " 2   tweet_created_at  127453 non-null  object \n",
      " 3   tweet_intent      96364 non-null   object \n",
      "dtypes: float64(1), object(3)\n",
      "memory usage: 3.9+ MB\n"
     ]
    }
   ],
   "source": [
    "data.info()"
   ]
  },
  {
   "cell_type": "code",
   "execution_count": 8,
   "id": "0863e47e",
   "metadata": {},
   "outputs": [
    {
     "data": {
      "text/plain": [
       "Community         41510\n",
       "Giveaway          21041\n",
       "Appreciation      16451\n",
       "Whitelist          8320\n",
       "Presale            5107\n",
       "Done               3049\n",
       "pinksale            477\n",
       "Interested          276\n",
       "Launching Soon      133\n",
       "Name: tweet_intent, dtype: int64"
      ]
     },
     "execution_count": 8,
     "metadata": {},
     "output_type": "execute_result"
    }
   ],
   "source": [
    "data[\"tweet_intent\"].value_counts()"
   ]
  },
  {
   "cell_type": "markdown",
   "id": "d5c7fc92",
   "metadata": {},
   "source": [
    "# Data Visualization"
   ]
  },
  {
   "cell_type": "code",
   "execution_count": 9,
   "id": "d469fba9",
   "metadata": {},
   "outputs": [
    {
     "data": {
      "image/png": "[encoded data removed]",
      "text/plain": [
       "<Figure size 720x432 with 1 Axes>"
      ]
     },
     "metadata": {
      "needs_background": "light"
     },
     "output_type": "display_data"
    }
   ],
   "source": [
    "fig = plt.figure(figsize=(10,6))\n",
    "ax = fig.add_subplot(111)\n",
    "\n",
    "# proportion of observation of each class\n",
    "\n",
    "prop_response = data[\"tweet_intent\"].value_counts(normalize=True)\n",
    "\n",
    "# create barplot showing the percentage of label\n",
    "prop_response.plot(kind='bar', \n",
    "                   ax=ax,\n",
    "                   color=['navy','salmon'])\n",
    "\n",
    "# set titles\n",
    "ax.set_title('Proportion of observations of tweet_intent',\n",
    "             fontsize=18, loc='left')\n",
    "ax.set_xlabel('tweet intent',\n",
    "              fontsize=14)\n",
    "ax.set_ylabel('proportion of observations',\n",
    "              fontsize=14)\n",
    "ax.tick_params(rotation='auto')"
   ]
  },
  {
   "cell_type": "code",
   "execution_count": 10,
   "id": "3ef999c1",
   "metadata": {},
   "outputs": [],
   "source": [
    "data['length'] = data['tweet_text'].apply(len)"
   ]
  },
  {
   "cell_type": "code",
   "execution_count": 11,
   "id": "dd92c1c8",
   "metadata": {},
   "outputs": [
    {
     "data": {
      "text/html": [
       "<div>\n",
       "<style scoped>\n",
       "    .dataframe tbody tr th:only-of-type {\n",
       "        vertical-align: middle;\n",
       "    }\n",
       "\n",
       "    .dataframe tbody tr th {\n",
       "        vertical-align: top;\n",
       "    }\n",
       "\n",
       "    .dataframe thead th {\n",
       "        text-align: right;\n",
       "    }\n",
       "</style>\n",
       "<table border=\"1\" class=\"dataframe\">\n",
       "  <thead>\n",
       "    <tr style=\"text-align: right;\">\n",
       "      <th></th>\n",
       "      <th>id</th>\n",
       "      <th>tweet_text</th>\n",
       "      <th>tweet_created_at</th>\n",
       "      <th>tweet_intent</th>\n",
       "      <th>length</th>\n",
       "    </tr>\n",
       "  </thead>\n",
       "  <tbody>\n",
       "    <tr>\n",
       "      <th>0</th>\n",
       "      <td>1212762.0</td>\n",
       "      <td>@crypto_brody @eCoLoGy1990 @MoonrunnersNFT @It...</td>\n",
       "      <td>2022-08-06T16:56:36.000Z</td>\n",
       "      <td>Community</td>\n",
       "      <td>483</td>\n",
       "    </tr>\n",
       "    <tr>\n",
       "      <th>1</th>\n",
       "      <td>1212763.0</td>\n",
       "      <td>Need Sick Character artâ_x009d_“#art #artist #...</td>\n",
       "      <td>2022-08-06T16:56:36.000Z</td>\n",
       "      <td>Giveaway</td>\n",
       "      <td>300</td>\n",
       "    </tr>\n",
       "    <tr>\n",
       "      <th>2</th>\n",
       "      <td>1212765.0</td>\n",
       "      <td>@The_Hulk_NFT @INagotchiNFT @Tesla @killabears...</td>\n",
       "      <td>2022-08-06T16:56:35.000Z</td>\n",
       "      <td>Appreciation</td>\n",
       "      <td>95</td>\n",
       "    </tr>\n",
       "    <tr>\n",
       "      <th>3</th>\n",
       "      <td>1212766.0</td>\n",
       "      <td>@CryptoBatzNFT @DarekBTW The first project in ...</td>\n",
       "      <td>2022-08-06T16:56:35.000Z</td>\n",
       "      <td>Community</td>\n",
       "      <td>284</td>\n",
       "    </tr>\n",
       "    <tr>\n",
       "      <th>4</th>\n",
       "      <td>1212767.0</td>\n",
       "      <td>@sashadysonn The first project in crypto with ...</td>\n",
       "      <td>2022-08-06T16:56:34.000Z</td>\n",
       "      <td>Community</td>\n",
       "      <td>272</td>\n",
       "    </tr>\n",
       "  </tbody>\n",
       "</table>\n",
       "</div>"
      ],
      "text/plain": [
       "          id                                         tweet_text  \\\n",
       "0  1212762.0  @crypto_brody @eCoLoGy1990 @MoonrunnersNFT @It...   \n",
       "1  1212763.0  Need Sick Character artâ_x009d_“#art #artist #...   \n",
       "2  1212765.0  @The_Hulk_NFT @INagotchiNFT @Tesla @killabears...   \n",
       "3  1212766.0  @CryptoBatzNFT @DarekBTW The first project in ...   \n",
       "4  1212767.0  @sashadysonn The first project in crypto with ...   \n",
       "\n",
       "           tweet_created_at  tweet_intent  length  \n",
       "0  2022-08-06T16:56:36.000Z     Community     483  \n",
       "1  2022-08-06T16:56:36.000Z      Giveaway     300  \n",
       "2  2022-08-06T16:56:35.000Z  Appreciation      95  \n",
       "3  2022-08-06T16:56:35.000Z     Community     284  \n",
       "4  2022-08-06T16:56:34.000Z     Community     272  "
      ]
     },
     "execution_count": 11,
     "metadata": {},
     "output_type": "execute_result"
    }
   ],
   "source": [
    "data.head()"
   ]
  },
  {
   "cell_type": "code",
   "execution_count": 12,
   "id": "bb6a2ad4",
   "metadata": {},
   "outputs": [
    {
     "data": {
      "text/plain": [
       "count    127453.000000\n",
       "mean        179.637372\n",
       "std          98.121174\n",
       "min          12.000000\n",
       "25%          99.000000\n",
       "50%         154.000000\n",
       "75%         276.000000\n",
       "max        1300.000000\n",
       "Name: length, dtype: float64"
      ]
     },
     "execution_count": 12,
     "metadata": {},
     "output_type": "execute_result"
    }
   ],
   "source": [
    "data[\"length\"].describe()"
   ]
  },
  {
   "cell_type": "code",
   "execution_count": 13,
   "id": "f7fa00ce",
   "metadata": {},
   "outputs": [
    {
     "data": {
      "text/plain": [
       "(array([1.0957e+04, 3.9210e+04, 1.7091e+04, 1.2436e+04, 1.3091e+04,\n",
       "        2.6694e+04, 6.0480e+03, 1.4400e+03, 2.4800e+02, 1.1800e+02,\n",
       "        3.8000e+01, 2.3000e+01, 1.0000e+01, 1.3000e+01, 2.0000e+01,\n",
       "        8.0000e+00, 2.0000e+00, 2.0000e+00, 1.0000e+00, 2.0000e+00,\n",
       "        0.0000e+00, 0.0000e+00, 0.0000e+00, 0.0000e+00, 1.0000e+00]),\n",
       " array([  12.  ,   63.52,  115.04,  166.56,  218.08,  269.6 ,  321.12,\n",
       "         372.64,  424.16,  475.68,  527.2 ,  578.72,  630.24,  681.76,\n",
       "         733.28,  784.8 ,  836.32,  887.84,  939.36,  990.88, 1042.4 ,\n",
       "        1093.92, 1145.44, 1196.96, 1248.48, 1300.  ]),\n",
       " <BarContainer object of 25 artists>)"
      ]
     },
     "execution_count": 13,
     "metadata": {},
     "output_type": "execute_result"
    },
    {
     "data": {
      "image/png": "[encoded data removed]",
      "text/plain": [
       "<Figure size 432x288 with 1 Axes>"
      ]
     },
     "metadata": {
      "needs_background": "light"
     },
     "output_type": "display_data"
    }
   ],
   "source": [
    "plt.hist(data['length'], bins=25, alpha=0.45, color='red')"
   ]
  },
  {
   "cell_type": "code",
   "execution_count": 14,
   "id": "8e5a1573",
   "metadata": {},
   "outputs": [
    {
     "data": {
      "text/plain": [
       "<AxesSubplot:xlabel='tweet_intent', ylabel='length'>"
      ]
     },
     "execution_count": 14,
     "metadata": {},
     "output_type": "execute_result"
    },
    {
     "data": {
      "image/png": "[encoded data removed]",
      "text/plain": [
       "<Figure size 1080x576 with 1 Axes>"
      ]
     },
     "metadata": {
      "needs_background": "light"
     },
     "output_type": "display_data"
    }
   ],
   "source": [
    "fig = plt.figure(figsize=(15,8))\n",
    "sns.boxplot(x=data.tweet_intent, y=data.length)"
   ]
  },
  {
   "cell_type": "markdown",
   "id": "f693ad22",
   "metadata": {},
   "source": [
    "# Text Pre-processing"
   ]
  },
  {
   "cell_type": "code",
   "execution_count": 15,
   "id": "c350ca10",
   "metadata": {},
   "outputs": [
    {
     "data": {
      "text/plain": [
       "'ðŸŽ‰ Just registered for the saphire on @PREMINT_NFT! https://t.co/lNIXaPFL4j'"
      ]
     },
     "execution_count": 15,
     "metadata": {},
     "output_type": "execute_result"
    }
   ],
   "source": [
    "data[\"tweet_text\"].iloc[5]"
   ]
  },
  {
   "cell_type": "markdown",
   "id": "2f3b0c73",
   "metadata": {},
   "source": [
    "# 1. Removing url"
   ]
  },
  {
   "cell_type": "code",
   "execution_count": 16,
   "id": "25c1aa09",
   "metadata": {},
   "outputs": [],
   "source": [
    "import re\n",
    "def clean_url(review_text):\n",
    "    return re.sub(r'http\\S+', '', review_text)\n",
    "\n",
    "data['tweet_text'] = data['tweet_text'].apply(clean_url)"
   ]
  },
  {
   "cell_type": "code",
   "execution_count": 17,
   "id": "62483014",
   "metadata": {},
   "outputs": [
    {
     "data": {
      "text/plain": [
       "'ðŸŽ‰ Just registered for the saphire on @PREMINT_NFT! '"
      ]
     },
     "execution_count": 17,
     "metadata": {},
     "output_type": "execute_result"
    }
   ],
   "source": [
    "data[\"tweet_text\"].iloc[5]"
   ]
  },
  {
   "cell_type": "markdown",
   "id": "d42a4f39",
   "metadata": {},
   "source": [
    "# 2.Removing all irrelevant characters (Numbers and Punctuation)"
   ]
  },
  {
   "cell_type": "code",
   "execution_count": 18,
   "id": "08a71455",
   "metadata": {},
   "outputs": [],
   "source": [
    "def clean_non_alphanumeric(review_text):\n",
    "    return re.sub('[^a-zA-Z]',' ',review_text)\n",
    "\n",
    "data['tweet_text'] = data['tweet_text'].apply(clean_non_alphanumeric)"
   ]
  },
  {
   "cell_type": "code",
   "execution_count": 19,
   "id": "152b9e07",
   "metadata": {},
   "outputs": [
    {
     "data": {
      "text/plain": [
       "'     Just registered for the saphire on  PREMINT NFT  '"
      ]
     },
     "execution_count": 19,
     "metadata": {},
     "output_type": "execute_result"
    }
   ],
   "source": [
    "data[\"tweet_text\"].iloc[5]"
   ]
  },
  {
   "cell_type": "markdown",
   "id": "a6ecf789",
   "metadata": {},
   "source": [
    "# 3.Convert all characters into lowercase"
   ]
  },
  {
   "cell_type": "code",
   "execution_count": 20,
   "id": "3a423b85",
   "metadata": {},
   "outputs": [],
   "source": [
    "def clean_lowercase(review_text):\n",
    "    return str(review_text).lower()\n",
    "data['tweet_text'] = data['tweet_text'].apply(clean_lowercase)"
   ]
  },
  {
   "cell_type": "code",
   "execution_count": 21,
   "id": "2d07303e",
   "metadata": {},
   "outputs": [
    {
     "data": {
      "text/plain": [
       "'     just registered for the saphire on  premint nft  '"
      ]
     },
     "execution_count": 21,
     "metadata": {},
     "output_type": "execute_result"
    }
   ],
   "source": [
    "data[\"tweet_text\"].iloc[5]"
   ]
  },
  {
   "cell_type": "markdown",
   "id": "0bae62e3",
   "metadata": {},
   "source": [
    "# 4.tokenization"
   ]
  },
  {
   "cell_type": "code",
   "execution_count": 22,
   "id": "cd161cbc",
   "metadata": {},
   "outputs": [],
   "source": [
    "import nltk\n",
    "from nltk.tokenize import word_tokenize"
   ]
  },
  {
   "cell_type": "code",
   "execution_count": 23,
   "id": "177f50a9",
   "metadata": {},
   "outputs": [],
   "source": [
    "import string\n",
    "from nltk.corpus import stopwords"
   ]
  },
  {
   "cell_type": "code",
   "execution_count": 24,
   "id": "dc27c3d0",
   "metadata": {},
   "outputs": [
    {
     "name": "stderr",
     "output_type": "stream",
     "text": [
      "[nltk_data] Downloading package punkt to\n",
      "[nltk_data]     C:\\Users\\ASUS\\AppData\\Roaming\\nltk_data...\n",
      "[nltk_data]   Package punkt is already up-to-date!\n"
     ]
    },
    {
     "data": {
      "text/plain": [
       "True"
      ]
     },
     "execution_count": 24,
     "metadata": {},
     "output_type": "execute_result"
    }
   ],
   "source": [
    "nltk.download('punkt')"
   ]
  },
  {
   "cell_type": "code",
   "execution_count": 25,
   "id": "ce64eeed",
   "metadata": {},
   "outputs": [],
   "source": [
    "def clean_tokenization(review_text):\n",
    "    return word_tokenize(review_text)\n",
    "data['tweet_text'] = data['tweet_text'].apply(clean_tokenization)"
   ]
  },
  {
   "cell_type": "code",
   "execution_count": 26,
   "id": "00ec794d",
   "metadata": {},
   "outputs": [
    {
     "data": {
      "text/plain": [
       "['just', 'registered', 'for', 'the', 'saphire', 'on', 'premint', 'nft']"
      ]
     },
     "execution_count": 26,
     "metadata": {},
     "output_type": "execute_result"
    }
   ],
   "source": [
    "data[\"tweet_text\"].iloc[5]"
   ]
  },
  {
   "cell_type": "markdown",
   "id": "ad8f6c21",
   "metadata": {},
   "source": [
    "Result: As we can see the string has been changed into tokens, that has been stored in the form of ‘list of string"
   ]
  },
  {
   "cell_type": "code",
   "execution_count": 27,
   "id": "e0439d72",
   "metadata": {},
   "outputs": [
    {
     "data": {
      "text/html": [
       "<div>\n",
       "<style scoped>\n",
       "    .dataframe tbody tr th:only-of-type {\n",
       "        vertical-align: middle;\n",
       "    }\n",
       "\n",
       "    .dataframe tbody tr th {\n",
       "        vertical-align: top;\n",
       "    }\n",
       "\n",
       "    .dataframe thead th {\n",
       "        text-align: right;\n",
       "    }\n",
       "</style>\n",
       "<table border=\"1\" class=\"dataframe\">\n",
       "  <thead>\n",
       "    <tr style=\"text-align: right;\">\n",
       "      <th></th>\n",
       "      <th>id</th>\n",
       "      <th>tweet_text</th>\n",
       "      <th>tweet_created_at</th>\n",
       "      <th>tweet_intent</th>\n",
       "      <th>length</th>\n",
       "    </tr>\n",
       "  </thead>\n",
       "  <tbody>\n",
       "    <tr>\n",
       "      <th>0</th>\n",
       "      <td>1212762.0</td>\n",
       "      <td>[crypto, brody, ecology, moonrunnersnft, itsuk...</td>\n",
       "      <td>2022-08-06T16:56:36.000Z</td>\n",
       "      <td>Community</td>\n",
       "      <td>483</td>\n",
       "    </tr>\n",
       "    <tr>\n",
       "      <th>1</th>\n",
       "      <td>1212763.0</td>\n",
       "      <td>[need, sick, character, art, x, d, art, artist...</td>\n",
       "      <td>2022-08-06T16:56:36.000Z</td>\n",
       "      <td>Giveaway</td>\n",
       "      <td>300</td>\n",
       "    </tr>\n",
       "    <tr>\n",
       "      <th>2</th>\n",
       "      <td>1212765.0</td>\n",
       "      <td>[the, hulk, nft, inagotchinft, tesla, killabea...</td>\n",
       "      <td>2022-08-06T16:56:35.000Z</td>\n",
       "      <td>Appreciation</td>\n",
       "      <td>95</td>\n",
       "    </tr>\n",
       "    <tr>\n",
       "      <th>3</th>\n",
       "      <td>1212766.0</td>\n",
       "      <td>[cryptobatznft, darekbtw, the, first, project,...</td>\n",
       "      <td>2022-08-06T16:56:35.000Z</td>\n",
       "      <td>Community</td>\n",
       "      <td>284</td>\n",
       "    </tr>\n",
       "    <tr>\n",
       "      <th>4</th>\n",
       "      <td>1212767.0</td>\n",
       "      <td>[sashadysonn, the, first, project, in, crypto,...</td>\n",
       "      <td>2022-08-06T16:56:34.000Z</td>\n",
       "      <td>Community</td>\n",
       "      <td>272</td>\n",
       "    </tr>\n",
       "  </tbody>\n",
       "</table>\n",
       "</div>"
      ],
      "text/plain": [
       "          id                                         tweet_text  \\\n",
       "0  1212762.0  [crypto, brody, ecology, moonrunnersnft, itsuk...   \n",
       "1  1212763.0  [need, sick, character, art, x, d, art, artist...   \n",
       "2  1212765.0  [the, hulk, nft, inagotchinft, tesla, killabea...   \n",
       "3  1212766.0  [cryptobatznft, darekbtw, the, first, project,...   \n",
       "4  1212767.0  [sashadysonn, the, first, project, in, crypto,...   \n",
       "\n",
       "           tweet_created_at  tweet_intent  length  \n",
       "0  2022-08-06T16:56:36.000Z     Community     483  \n",
       "1  2022-08-06T16:56:36.000Z      Giveaway     300  \n",
       "2  2022-08-06T16:56:35.000Z  Appreciation      95  \n",
       "3  2022-08-06T16:56:35.000Z     Community     284  \n",
       "4  2022-08-06T16:56:34.000Z     Community     272  "
      ]
     },
     "execution_count": 27,
     "metadata": {},
     "output_type": "execute_result"
    }
   ],
   "source": [
    "data.head(5)"
   ]
  },
  {
   "cell_type": "markdown",
   "id": "bbbef4ef",
   "metadata": {},
   "source": [
    "# 5.Removing Stopwords"
   ]
  },
  {
   "cell_type": "code",
   "execution_count": 28,
   "id": "2c671563",
   "metadata": {},
   "outputs": [
    {
     "data": {
      "text/plain": [
       "['i',\n",
       " 'me',\n",
       " 'my',\n",
       " 'myself',\n",
       " 'we',\n",
       " 'our',\n",
       " 'ours',\n",
       " 'ourselves',\n",
       " 'you',\n",
       " \"you're\",\n",
       " \"you've\",\n",
       " \"you'll\",\n",
       " \"you'd\",\n",
       " 'your',\n",
       " 'yours',\n",
       " 'yourself',\n",
       " 'yourselves',\n",
       " 'he',\n",
       " 'him',\n",
       " 'his',\n",
       " 'himself',\n",
       " 'she',\n",
       " \"she's\",\n",
       " 'her',\n",
       " 'hers',\n",
       " 'herself',\n",
       " 'it',\n",
       " \"it's\",\n",
       " 'its',\n",
       " 'itself',\n",
       " 'they',\n",
       " 'them',\n",
       " 'their',\n",
       " 'theirs',\n",
       " 'themselves',\n",
       " 'what',\n",
       " 'which',\n",
       " 'who',\n",
       " 'whom',\n",
       " 'this',\n",
       " 'that',\n",
       " \"that'll\",\n",
       " 'these',\n",
       " 'those',\n",
       " 'am',\n",
       " 'is',\n",
       " 'are',\n",
       " 'was',\n",
       " 'were',\n",
       " 'be',\n",
       " 'been',\n",
       " 'being',\n",
       " 'have',\n",
       " 'has',\n",
       " 'had',\n",
       " 'having',\n",
       " 'do',\n",
       " 'does',\n",
       " 'did',\n",
       " 'doing',\n",
       " 'a',\n",
       " 'an',\n",
       " 'the',\n",
       " 'and',\n",
       " 'but',\n",
       " 'if',\n",
       " 'or',\n",
       " 'because',\n",
       " 'as',\n",
       " 'until',\n",
       " 'while',\n",
       " 'of',\n",
       " 'at',\n",
       " 'by',\n",
       " 'for',\n",
       " 'with',\n",
       " 'about',\n",
       " 'against',\n",
       " 'between',\n",
       " 'into',\n",
       " 'through',\n",
       " 'during',\n",
       " 'before',\n",
       " 'after',\n",
       " 'above',\n",
       " 'below',\n",
       " 'to',\n",
       " 'from',\n",
       " 'up',\n",
       " 'down',\n",
       " 'in',\n",
       " 'out',\n",
       " 'on',\n",
       " 'off',\n",
       " 'over',\n",
       " 'under',\n",
       " 'again',\n",
       " 'further',\n",
       " 'then',\n",
       " 'once',\n",
       " 'here',\n",
       " 'there',\n",
       " 'when',\n",
       " 'where',\n",
       " 'why',\n",
       " 'how',\n",
       " 'all',\n",
       " 'any',\n",
       " 'both',\n",
       " 'each',\n",
       " 'few',\n",
       " 'more',\n",
       " 'most',\n",
       " 'other',\n",
       " 'some',\n",
       " 'such',\n",
       " 'no',\n",
       " 'nor',\n",
       " 'not',\n",
       " 'only',\n",
       " 'own',\n",
       " 'same',\n",
       " 'so',\n",
       " 'than',\n",
       " 'too',\n",
       " 'very',\n",
       " 's',\n",
       " 't',\n",
       " 'can',\n",
       " 'will',\n",
       " 'just',\n",
       " 'don',\n",
       " \"don't\",\n",
       " 'should',\n",
       " \"should've\",\n",
       " 'now',\n",
       " 'd',\n",
       " 'll',\n",
       " 'm',\n",
       " 'o',\n",
       " 're',\n",
       " 've',\n",
       " 'y',\n",
       " 'ain',\n",
       " 'aren',\n",
       " \"aren't\",\n",
       " 'couldn',\n",
       " \"couldn't\",\n",
       " 'didn',\n",
       " \"didn't\",\n",
       " 'doesn',\n",
       " \"doesn't\",\n",
       " 'hadn',\n",
       " \"hadn't\",\n",
       " 'hasn',\n",
       " \"hasn't\",\n",
       " 'haven',\n",
       " \"haven't\",\n",
       " 'isn',\n",
       " \"isn't\",\n",
       " 'ma',\n",
       " 'mightn',\n",
       " \"mightn't\",\n",
       " 'mustn',\n",
       " \"mustn't\",\n",
       " 'needn',\n",
       " \"needn't\",\n",
       " 'shan',\n",
       " \"shan't\",\n",
       " 'shouldn',\n",
       " \"shouldn't\",\n",
       " 'wasn',\n",
       " \"wasn't\",\n",
       " 'weren',\n",
       " \"weren't\",\n",
       " 'won',\n",
       " \"won't\",\n",
       " 'wouldn',\n",
       " \"wouldn't\"]"
      ]
     },
     "execution_count": 28,
     "metadata": {},
     "output_type": "execute_result"
    }
   ],
   "source": [
    "from nltk.corpus import stopwords\n",
    "stopwords.words('english')"
   ]
  },
  {
   "cell_type": "code",
   "execution_count": 29,
   "id": "760f6ae7",
   "metadata": {},
   "outputs": [],
   "source": [
    "stop_words = set(stopwords.words('english'))\n",
    "def clean_stopwords(token):\n",
    "    return [item for item in token if item not in stop_words]\n",
    "\n",
    "data['tweet_text'] = data['tweet_text'].apply(clean_stopwords)"
   ]
  },
  {
   "cell_type": "code",
   "execution_count": 30,
   "id": "8f385353",
   "metadata": {},
   "outputs": [
    {
     "data": {
      "text/plain": [
       "['registered', 'saphire', 'premint', 'nft']"
      ]
     },
     "execution_count": 30,
     "metadata": {},
     "output_type": "execute_result"
    }
   ],
   "source": [
    "data[\"tweet_text\"].iloc[5]"
   ]
  },
  {
   "cell_type": "markdown",
   "id": "4edaf41b",
   "metadata": {},
   "source": [
    "# 6.Stemming and Lemmatization"
   ]
  },
  {
   "cell_type": "markdown",
   "id": "13631c2a",
   "metadata": {},
   "source": [
    " stemming"
   ]
  },
  {
   "cell_type": "code",
   "execution_count": 31,
   "id": "cef5627d",
   "metadata": {},
   "outputs": [],
   "source": [
    "from nltk.stem import PorterStemmer\n",
    "\n",
    "stemmer = PorterStemmer()\n",
    "def clean_stem(token):\n",
    "    return [stemmer.stem(i) for i in token]\n",
    "\n",
    "data['tweet_text'] = data['tweet_text'].apply(clean_stem)"
   ]
  },
  {
   "cell_type": "markdown",
   "id": "29020d82",
   "metadata": {},
   "source": [
    "lemmitization"
   ]
  },
  {
   "cell_type": "code",
   "execution_count": 32,
   "id": "e78eaf53",
   "metadata": {},
   "outputs": [],
   "source": [
    "from nltk.stem import WordNetLemmatizer\n",
    "lemma=WordNetLemmatizer()\n",
    "\n",
    "def clean_lemmatization(token):\n",
    "    return [lemma.lemmatize(word=w, pos='v') for w in token]\n",
    "data['tweet_text'] = data['tweet_text'].apply(clean_lemmatization)"
   ]
  },
  {
   "cell_type": "code",
   "execution_count": 33,
   "id": "37d5df46",
   "metadata": {},
   "outputs": [],
   "source": [
    "def clean_length(token):\n",
    "    return [i for i in token if len(i) > 2]\n",
    "data['tweet_text'] = data['tweet_text'].apply(clean_length)"
   ]
  },
  {
   "cell_type": "code",
   "execution_count": 34,
   "id": "272ea706",
   "metadata": {},
   "outputs": [
    {
     "data": {
      "text/plain": [
       "['regist', 'saphir', 'premint', 'nft']"
      ]
     },
     "execution_count": 34,
     "metadata": {},
     "output_type": "execute_result"
    }
   ],
   "source": [
    "data[\"tweet_text\"].iloc[5]"
   ]
  },
  {
   "cell_type": "markdown",
   "id": "735a0841",
   "metadata": {},
   "source": [
    "# Convert the list of tokens into back to the string"
   ]
  },
  {
   "cell_type": "code",
   "execution_count": 35,
   "id": "3f4e7b7b",
   "metadata": {},
   "outputs": [],
   "source": [
    "def convert_to_string(listReview):\n",
    "    return ' '.join(listReview)\n",
    "\n",
    "data['tweet_text'] = data['tweet_text'].apply(convert_to_string)"
   ]
  },
  {
   "cell_type": "code",
   "execution_count": 36,
   "id": "b1c49d7b",
   "metadata": {},
   "outputs": [
    {
     "data": {
      "text/html": [
       "<div>\n",
       "<style scoped>\n",
       "    .dataframe tbody tr th:only-of-type {\n",
       "        vertical-align: middle;\n",
       "    }\n",
       "\n",
       "    .dataframe tbody tr th {\n",
       "        vertical-align: top;\n",
       "    }\n",
       "\n",
       "    .dataframe thead th {\n",
       "        text-align: right;\n",
       "    }\n",
       "</style>\n",
       "<table border=\"1\" class=\"dataframe\">\n",
       "  <thead>\n",
       "    <tr style=\"text-align: right;\">\n",
       "      <th></th>\n",
       "      <th>id</th>\n",
       "      <th>tweet_text</th>\n",
       "      <th>tweet_created_at</th>\n",
       "      <th>tweet_intent</th>\n",
       "      <th>length</th>\n",
       "    </tr>\n",
       "  </thead>\n",
       "  <tbody>\n",
       "    <tr>\n",
       "      <th>0</th>\n",
       "      <td>1212762.0</td>\n",
       "      <td>crypto brodi ecolog moonrunnersnft itsukinft t...</td>\n",
       "      <td>2022-08-06T16:56:36.000Z</td>\n",
       "      <td>Community</td>\n",
       "      <td>483</td>\n",
       "    </tr>\n",
       "    <tr>\n",
       "      <th>1</th>\n",
       "      <td>1212763.0</td>\n",
       "      <td>need sick charact art art artist artist anim i...</td>\n",
       "      <td>2022-08-06T16:56:36.000Z</td>\n",
       "      <td>Giveaway</td>\n",
       "      <td>300</td>\n",
       "    </tr>\n",
       "    <tr>\n",
       "      <th>2</th>\n",
       "      <td>1212765.0</td>\n",
       "      <td>hulk nft inagotchinft tesla killabearsnft elon...</td>\n",
       "      <td>2022-08-06T16:56:35.000Z</td>\n",
       "      <td>Appreciation</td>\n",
       "      <td>95</td>\n",
       "    </tr>\n",
       "    <tr>\n",
       "      <th>3</th>\n",
       "      <td>1212766.0</td>\n",
       "      <td>cryptobatznft darekbtw first project crypto mo...</td>\n",
       "      <td>2022-08-06T16:56:35.000Z</td>\n",
       "      <td>Community</td>\n",
       "      <td>284</td>\n",
       "    </tr>\n",
       "    <tr>\n",
       "      <th>4</th>\n",
       "      <td>1212767.0</td>\n",
       "      <td>sashadysonn first project crypto move earn ast...</td>\n",
       "      <td>2022-08-06T16:56:34.000Z</td>\n",
       "      <td>Community</td>\n",
       "      <td>272</td>\n",
       "    </tr>\n",
       "  </tbody>\n",
       "</table>\n",
       "</div>"
      ],
      "text/plain": [
       "          id                                         tweet_text  \\\n",
       "0  1212762.0  crypto brodi ecolog moonrunnersnft itsukinft t...   \n",
       "1  1212763.0  need sick charact art art artist artist anim i...   \n",
       "2  1212765.0  hulk nft inagotchinft tesla killabearsnft elon...   \n",
       "3  1212766.0  cryptobatznft darekbtw first project crypto mo...   \n",
       "4  1212767.0  sashadysonn first project crypto move earn ast...   \n",
       "\n",
       "           tweet_created_at  tweet_intent  length  \n",
       "0  2022-08-06T16:56:36.000Z     Community     483  \n",
       "1  2022-08-06T16:56:36.000Z      Giveaway     300  \n",
       "2  2022-08-06T16:56:35.000Z  Appreciation      95  \n",
       "3  2022-08-06T16:56:35.000Z     Community     284  \n",
       "4  2022-08-06T16:56:34.000Z     Community     272  "
      ]
     },
     "execution_count": 36,
     "metadata": {},
     "output_type": "execute_result"
    }
   ],
   "source": [
    "data.head()"
   ]
  },
  {
   "cell_type": "markdown",
   "id": "464b5d64",
   "metadata": {},
   "source": [
    "# vectorization"
   ]
  },
  {
   "cell_type": "code",
   "execution_count": 37,
   "id": "03275adb",
   "metadata": {},
   "outputs": [],
   "source": [
    "from sklearn.feature_extraction.text import CountVectorizer"
   ]
  },
  {
   "cell_type": "code",
   "execution_count": 38,
   "id": "206f60a9",
   "metadata": {},
   "outputs": [],
   "source": [
    "cv = CountVectorizer().fit(data['tweet_text'])"
   ]
  },
  {
   "cell_type": "code",
   "execution_count": 39,
   "id": "0d8fc2ae",
   "metadata": {},
   "outputs": [
    {
     "name": "stdout",
     "output_type": "stream",
     "text": [
      "114053\n"
     ]
    }
   ],
   "source": [
    "print(len(cv.vocabulary_))"
   ]
  },
  {
   "cell_type": "code",
   "execution_count": 40,
   "id": "95288941",
   "metadata": {},
   "outputs": [],
   "source": [
    "text_bag = cv.transform(data['tweet_text'])"
   ]
  },
  {
   "cell_type": "markdown",
   "id": "c613f7e1",
   "metadata": {},
   "source": [
    "# TF - IDF"
   ]
  },
  {
   "cell_type": "code",
   "execution_count": 41,
   "id": "48a9a884",
   "metadata": {},
   "outputs": [
    {
     "name": "stdout",
     "output_type": "stream",
     "text": [
      "(127453, 114053)\n"
     ]
    }
   ],
   "source": [
    "tfidf = TfidfTransformer().fit(text_bag)\n",
    "text_tfidf = tfidf.transform(text_bag)\n",
    "print(text_tfidf.shape)"
   ]
  },
  {
   "cell_type": "markdown",
   "id": "6cba1904",
   "metadata": {},
   "source": [
    "# Filling the Missing Values – Imputation"
   ]
  },
  {
   "cell_type": "code",
   "execution_count": 42,
   "id": "6a97c2ad",
   "metadata": {},
   "outputs": [],
   "source": [
    "data = data.drop('length', axis=1)"
   ]
  },
  {
   "cell_type": "code",
   "execution_count": 43,
   "id": "7713ed00",
   "metadata": {},
   "outputs": [
    {
     "data": {
      "text/html": [
       "<div>\n",
       "<style scoped>\n",
       "    .dataframe tbody tr th:only-of-type {\n",
       "        vertical-align: middle;\n",
       "    }\n",
       "\n",
       "    .dataframe tbody tr th {\n",
       "        vertical-align: top;\n",
       "    }\n",
       "\n",
       "    .dataframe thead th {\n",
       "        text-align: right;\n",
       "    }\n",
       "</style>\n",
       "<table border=\"1\" class=\"dataframe\">\n",
       "  <thead>\n",
       "    <tr style=\"text-align: right;\">\n",
       "      <th></th>\n",
       "      <th>id</th>\n",
       "      <th>tweet_text</th>\n",
       "      <th>tweet_created_at</th>\n",
       "      <th>tweet_intent</th>\n",
       "    </tr>\n",
       "  </thead>\n",
       "  <tbody>\n",
       "    <tr>\n",
       "      <th>0</th>\n",
       "      <td>1212762.0</td>\n",
       "      <td>crypto brodi ecolog moonrunnersnft itsukinft t...</td>\n",
       "      <td>2022-08-06T16:56:36.000Z</td>\n",
       "      <td>Community</td>\n",
       "    </tr>\n",
       "    <tr>\n",
       "      <th>1</th>\n",
       "      <td>1212763.0</td>\n",
       "      <td>need sick charact art art artist artist anim i...</td>\n",
       "      <td>2022-08-06T16:56:36.000Z</td>\n",
       "      <td>Giveaway</td>\n",
       "    </tr>\n",
       "    <tr>\n",
       "      <th>2</th>\n",
       "      <td>1212765.0</td>\n",
       "      <td>hulk nft inagotchinft tesla killabearsnft elon...</td>\n",
       "      <td>2022-08-06T16:56:35.000Z</td>\n",
       "      <td>Appreciation</td>\n",
       "    </tr>\n",
       "    <tr>\n",
       "      <th>3</th>\n",
       "      <td>1212766.0</td>\n",
       "      <td>cryptobatznft darekbtw first project crypto mo...</td>\n",
       "      <td>2022-08-06T16:56:35.000Z</td>\n",
       "      <td>Community</td>\n",
       "    </tr>\n",
       "    <tr>\n",
       "      <th>4</th>\n",
       "      <td>1212767.0</td>\n",
       "      <td>sashadysonn first project crypto move earn ast...</td>\n",
       "      <td>2022-08-06T16:56:34.000Z</td>\n",
       "      <td>Community</td>\n",
       "    </tr>\n",
       "  </tbody>\n",
       "</table>\n",
       "</div>"
      ],
      "text/plain": [
       "          id                                         tweet_text  \\\n",
       "0  1212762.0  crypto brodi ecolog moonrunnersnft itsukinft t...   \n",
       "1  1212763.0  need sick charact art art artist artist anim i...   \n",
       "2  1212765.0  hulk nft inagotchinft tesla killabearsnft elon...   \n",
       "3  1212766.0  cryptobatznft darekbtw first project crypto mo...   \n",
       "4  1212767.0  sashadysonn first project crypto move earn ast...   \n",
       "\n",
       "           tweet_created_at  tweet_intent  \n",
       "0  2022-08-06T16:56:36.000Z     Community  \n",
       "1  2022-08-06T16:56:36.000Z      Giveaway  \n",
       "2  2022-08-06T16:56:35.000Z  Appreciation  \n",
       "3  2022-08-06T16:56:35.000Z     Community  \n",
       "4  2022-08-06T16:56:34.000Z     Community  "
      ]
     },
     "execution_count": 43,
     "metadata": {},
     "output_type": "execute_result"
    }
   ],
   "source": [
    "data.head()"
   ]
  },
  {
   "cell_type": "code",
   "execution_count": 44,
   "id": "d599b4b6",
   "metadata": {},
   "outputs": [
    {
     "name": "stdout",
     "output_type": "stream",
     "text": [
      "<class 'pandas.core.frame.DataFrame'>\n",
      "RangeIndex: 127453 entries, 0 to 127452\n",
      "Data columns (total 4 columns):\n",
      " #   Column            Non-Null Count   Dtype  \n",
      "---  ------            --------------   -----  \n",
      " 0   id                127453 non-null  float64\n",
      " 1   tweet_text        127453 non-null  object \n",
      " 2   tweet_created_at  127453 non-null  object \n",
      " 3   tweet_intent      96364 non-null   object \n",
      "dtypes: float64(1), object(3)\n",
      "memory usage: 3.9+ MB\n"
     ]
    }
   ],
   "source": [
    "updated_df = data\n",
    "updated_df['tweet_intent'] = updated_df['tweet_intent'].fillna(updated_df['tweet_intent'].mode())\n",
    "updated_df.info()"
   ]
  },
  {
   "cell_type": "code",
   "execution_count": 45,
   "id": "7630c288",
   "metadata": {},
   "outputs": [
    {
     "data": {
      "text/html": [
       "<div>\n",
       "<style scoped>\n",
       "    .dataframe tbody tr th:only-of-type {\n",
       "        vertical-align: middle;\n",
       "    }\n",
       "\n",
       "    .dataframe tbody tr th {\n",
       "        vertical-align: top;\n",
       "    }\n",
       "\n",
       "    .dataframe thead th {\n",
       "        text-align: right;\n",
       "    }\n",
       "</style>\n",
       "<table border=\"1\" class=\"dataframe\">\n",
       "  <thead>\n",
       "    <tr style=\"text-align: right;\">\n",
       "      <th></th>\n",
       "      <th>id</th>\n",
       "      <th>tweet_text</th>\n",
       "      <th>tweet_created_at</th>\n",
       "      <th>tweet_intent</th>\n",
       "    </tr>\n",
       "  </thead>\n",
       "  <tbody>\n",
       "    <tr>\n",
       "      <th>0</th>\n",
       "      <td>1212762.0</td>\n",
       "      <td>crypto brodi ecolog moonrunnersnft itsukinft t...</td>\n",
       "      <td>2022-08-06T16:56:36.000Z</td>\n",
       "      <td>1</td>\n",
       "    </tr>\n",
       "    <tr>\n",
       "      <th>1</th>\n",
       "      <td>1212763.0</td>\n",
       "      <td>need sick charact art art artist artist anim i...</td>\n",
       "      <td>2022-08-06T16:56:36.000Z</td>\n",
       "      <td>3</td>\n",
       "    </tr>\n",
       "    <tr>\n",
       "      <th>2</th>\n",
       "      <td>1212765.0</td>\n",
       "      <td>hulk nft inagotchinft tesla killabearsnft elon...</td>\n",
       "      <td>2022-08-06T16:56:35.000Z</td>\n",
       "      <td>0</td>\n",
       "    </tr>\n",
       "    <tr>\n",
       "      <th>3</th>\n",
       "      <td>1212766.0</td>\n",
       "      <td>cryptobatznft darekbtw first project crypto mo...</td>\n",
       "      <td>2022-08-06T16:56:35.000Z</td>\n",
       "      <td>1</td>\n",
       "    </tr>\n",
       "    <tr>\n",
       "      <th>4</th>\n",
       "      <td>1212767.0</td>\n",
       "      <td>sashadysonn first project crypto move earn ast...</td>\n",
       "      <td>2022-08-06T16:56:34.000Z</td>\n",
       "      <td>1</td>\n",
       "    </tr>\n",
       "  </tbody>\n",
       "</table>\n",
       "</div>"
      ],
      "text/plain": [
       "          id                                         tweet_text  \\\n",
       "0  1212762.0  crypto brodi ecolog moonrunnersnft itsukinft t...   \n",
       "1  1212763.0  need sick charact art art artist artist anim i...   \n",
       "2  1212765.0  hulk nft inagotchinft tesla killabearsnft elon...   \n",
       "3  1212766.0  cryptobatznft darekbtw first project crypto mo...   \n",
       "4  1212767.0  sashadysonn first project crypto move earn ast...   \n",
       "\n",
       "           tweet_created_at  tweet_intent  \n",
       "0  2022-08-06T16:56:36.000Z             1  \n",
       "1  2022-08-06T16:56:36.000Z             3  \n",
       "2  2022-08-06T16:56:35.000Z             0  \n",
       "3  2022-08-06T16:56:35.000Z             1  \n",
       "4  2022-08-06T16:56:34.000Z             1  "
      ]
     },
     "execution_count": 45,
     "metadata": {},
     "output_type": "execute_result"
    }
   ],
   "source": [
    "from sklearn import preprocessing\n",
    "label_encoder = preprocessing.LabelEncoder()\n",
    "data['tweet_intent']= label_encoder.fit_transform(data['tweet_intent'])\n",
    "data.head()"
   ]
  },
  {
   "cell_type": "code",
   "execution_count": 46,
   "id": "e9eea97a",
   "metadata": {},
   "outputs": [
    {
     "name": "stdout",
     "output_type": "stream",
     "text": [
      "<class 'pandas.core.frame.DataFrame'>\n",
      "RangeIndex: 127453 entries, 0 to 127452\n",
      "Data columns (total 4 columns):\n",
      " #   Column            Non-Null Count   Dtype  \n",
      "---  ------            --------------   -----  \n",
      " 0   id                127453 non-null  float64\n",
      " 1   tweet_text        127453 non-null  object \n",
      " 2   tweet_created_at  127453 non-null  object \n",
      " 3   tweet_intent      127453 non-null  int32  \n",
      "dtypes: float64(1), int32(1), object(2)\n",
      "memory usage: 3.4+ MB\n"
     ]
    }
   ],
   "source": [
    "updated_df = data\n",
    "updated_df['tweet_intent'] = updated_df['tweet_intent'].fillna(updated_df['tweet_intent'].mean())\n",
    "updated_df.info()"
   ]
  },
  {
   "cell_type": "markdown",
   "id": "d41acfe0",
   "metadata": {},
   "source": [
    "# training and testing of data"
   ]
  },
  {
   "cell_type": "code",
   "execution_count": 47,
   "id": "bad75dcb",
   "metadata": {},
   "outputs": [],
   "source": [
    "X_train, X_test, y_train, y_test = train_test_split(data['tweet_text'], data['tweet_intent'], test_size=0.25, random_state=42)"
   ]
  },
  {
   "cell_type": "code",
   "execution_count": 48,
   "id": "05202a97",
   "metadata": {},
   "outputs": [],
   "source": [
    "pipeline = Pipeline([\n",
    "    ('bow', CountVectorizer()),\n",
    "    ('tfidf', TfidfTransformer()),\n",
    "    ('classifier', MultinomialNB())\n",
    "])"
   ]
  },
  {
   "cell_type": "code",
   "execution_count": 49,
   "id": "735ce016",
   "metadata": {},
   "outputs": [
    {
     "data": {
      "text/plain": [
       "Pipeline(steps=[('bow', CountVectorizer()), ('tfidf', TfidfTransformer()),\n",
       "                ('classifier', MultinomialNB())])"
      ]
     },
     "execution_count": 49,
     "metadata": {},
     "output_type": "execute_result"
    }
   ],
   "source": [
    "pipeline.fit(X_train, y_train)"
   ]
  },
  {
   "cell_type": "code",
   "execution_count": 50,
   "id": "2177c25f",
   "metadata": {},
   "outputs": [],
   "source": [
    "predictions = pipeline.predict(X_test)"
   ]
  },
  {
   "cell_type": "code",
   "execution_count": 51,
   "id": "4362480a",
   "metadata": {},
   "outputs": [
    {
     "name": "stdout",
     "output_type": "stream",
     "text": [
      "              precision    recall  f1-score   support\n",
      "\n",
      "           0       0.62      0.87      0.72      2953\n",
      "           1       0.93      0.83      0.88     11669\n",
      "           2       0.48      0.97      0.64       388\n",
      "           3       0.88      0.85      0.87      5456\n",
      "           4       0.00      0.00      0.00         0\n",
      "           5       0.00      0.00      0.00         0\n",
      "           6       0.85      0.98      0.91      1106\n",
      "           7       0.57      0.96      0.72      1220\n",
      "           8       0.00      0.00      0.00         0\n",
      "           9       0.86      0.73      0.79      9072\n",
      "\n",
      "    accuracy                           0.82     31864\n",
      "   macro avg       0.52      0.62      0.55     31864\n",
      "weighted avg       0.85      0.82      0.83     31864\n",
      "\n"
     ]
    },
    {
     "name": "stderr",
     "output_type": "stream",
     "text": [
      "C:\\Users\\ASUS\\anaconda3\\lib\\site-packages\\sklearn\\metrics\\_classification.py:1248: UndefinedMetricWarning: Recall and F-score are ill-defined and being set to 0.0 in labels with no true samples. Use `zero_division` parameter to control this behavior.\n",
      "  _warn_prf(average, modifier, msg_start, len(result))\n",
      "C:\\Users\\ASUS\\anaconda3\\lib\\site-packages\\sklearn\\metrics\\_classification.py:1248: UndefinedMetricWarning: Recall and F-score are ill-defined and being set to 0.0 in labels with no true samples. Use `zero_division` parameter to control this behavior.\n",
      "  _warn_prf(average, modifier, msg_start, len(result))\n",
      "C:\\Users\\ASUS\\anaconda3\\lib\\site-packages\\sklearn\\metrics\\_classification.py:1248: UndefinedMetricWarning: Recall and F-score are ill-defined and being set to 0.0 in labels with no true samples. Use `zero_division` parameter to control this behavior.\n",
      "  _warn_prf(average, modifier, msg_start, len(result))\n"
     ]
    }
   ],
   "source": [
    "print(classification_report(predictions, y_test))"
   ]
  },
  {
   "cell_type": "code",
   "execution_count": null,
   "id": "a86f61f8",
   "metadata": {},
   "outputs": [],
   "source": []
  },
  {
   "cell_type": "code",
   "execution_count": null,
   "id": "bdc453a8",
   "metadata": {},
   "outputs": [],
   "source": []
  },
  {
   "cell_type": "code",
   "execution_count": null,
   "id": "30abc60b",
   "metadata": {},
   "outputs": [],
   "source": []
  },
  {
   "cell_type": "code",
   "execution_count": null,
   "id": "52f7c8a3",
   "metadata": {},
   "outputs": [],
   "source": []
  }
 ],
 "metadata": {
  "kernelspec": {
   "display_name": "Python 3 (ipykernel)",
   "language": "python",
   "name": "python3"
  },
  "language_info": {
   "codemirror_mode": {
    "name": "ipython",
    "version": 3
   },
   "file_extension": ".py",
   "mimetype": "text/x-python",
   "name": "python",
   "nbconvert_exporter": "python",
   "pygments_lexer": "ipython3",
   "version": "3.9.7"
  }
 },
 "nbformat": 4,
 "nbformat_minor": 5
}
